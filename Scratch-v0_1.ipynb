{
 "cells": [
  {
   "cell_type": "code",
   "execution_count": 1,
   "metadata": {},
   "outputs": [
    {
     "name": "stdout",
     "output_type": "stream",
     "text": [
      "cuda\n"
     ]
    }
   ],
   "source": [
    "import os\n",
    "from copy import deepcopy\n",
    "from collections import OrderedDict\n",
    "os.environ['CUDA_DEVICE_ORDER'] = 'PCI_BUS_ID'\n",
    "os.environ['CUDA_VISIBLE_DEVICES'] = '0'\n",
    "\n",
    "import numpy as np\n",
    "import scipy as sp\n",
    "import scipy.stats\n",
    "import matplotlib.pyplot as plt\n",
    "from tqdm import tqdm as tqdm\n",
    "from hdf5storage import loadmat, savemat\n",
    "\n",
    "import pycochleagram.cochleagram as cgram\n",
    "\n",
    "import torch\n",
    "import torch.nn as nn\n",
    "import torch.nn.functional as F\n",
    "import torch.distributions as tdist\n",
    "\n",
    "import pyro\n",
    "import pyro.infer\n",
    "import pyro.optim\n",
    "import pyro.distributions as dist\n",
    "from pyro.contrib.tracking.extended_kalman_filter import EKFState\n",
    "from pyro.contrib.tracking.distributions import EKFDistribution\n",
    "from pyro.contrib.tracking.dynamic_models import DynamicModel, NcvContinuous\n",
    "from pyro.contrib.tracking.measurements import PositionMeasurement\n",
    "\n",
    "pyro.enable_validation(True)\n",
    "pyro.clear_param_store()\n",
    "\n",
    "from tools.experiment_neural import stim_tr, stim_vl, data_tr, data_vl, stim_tx, data_tx\n",
    "from tools.data_librispeech import LibriDataset, load_subset, cgram_params\n",
    "from tools.nsr_utils import train_nsr, validate_nsr, Experiment\n",
    "\n",
    "cuda = torch.cuda.is_available() and True\n",
    "print(\"cuda\" if cuda else \"cpu\")"
   ]
  },
  {
   "cell_type": "code",
   "execution_count": null,
   "metadata": {
    "jupyter": {
     "source_hidden": true
    }
   },
   "outputs": [],
   "source": [
    "# class Linear(nn.Module):\n",
    "#     def __init__(self, xdim, ydim, lognormal=False):\n",
    "#         super().__init__()\n",
    "#         self.xdim = xdim\n",
    "#         self.ydim = ydim\n",
    "#         self.lognormal = lognormal\n",
    "    \n",
    "#     def forward(self, x, y):\n",
    "#         kernel_loc = torch.randn(self.xdim)\n",
    "#         kernel_scale = 0.1*torch.ones(self.xdim)\n",
    "#         kernel = pyro.sample('kernel', dist.MultivariateNormal(kernel_loc, torch.diag(kernel_scale)))\n",
    "        \n",
    "#         bias_loc = torch.tensor(0.0)\n",
    "#         #bias_scale = torch.tensor(1.0)\n",
    "#         bias = pyro.sample('bias', dist.Normal(bias_loc, 0.1))\n",
    "        \n",
    "#         with pyro.plate('observations'):\n",
    "#             estimate_loc = (x * kernel).sum(1) + bias\n",
    "#             #noise_scale = torch.tensor(1.0) if self.lognormal else torch.tensor(0.1)\n",
    "#             estimate_dist = dist.LogNormal if self.lognormal else dist.Normal\n",
    "#             estimate = pyro.sample('obs', estimate_dist(estimate_loc, 0.1), obs=y)\n",
    "    \n",
    "#     def filter(self, x):\n",
    "#         estimate_loc = (pyro.param('kernel_loc') * x).sum(1) + pyro.param('bias_loc')\n",
    "#         #noise_scale = pyro.param('noise_scale')\n",
    "#         #noise_scale = torch.tensor(1.0) if self.lognormal else torch.tensor(0.1)\n",
    "#         return torch.exp(estimate_loc - noise_scale) if self.lognormal else estimate_loc\n",
    "    \n",
    "#     def guide(self, x, y):\n",
    "#         kernel_loc = pyro.param('kernel_loc', torch.randn(self.xdim))#, tdist.constraints.positive)\n",
    "#         kernel_scale = pyro.param('kernel_scale', 0.1*torch.ones(self.xdim), tdist.constraints.positive)\n",
    "#         try:\n",
    "#             kernel = pyro.sample('kernel', dist.MultivariateNormal(kernel_loc, torch.diag(kernel_scale)))\n",
    "#         except:\n",
    "#             print(min(kernel_loc), max(kernel_loc))#, min(kernel_scale), max(kernel_scale))\n",
    "#             raise RuntimeError('')\n",
    "        \n",
    "#         bias_loc = pyro.param('bias_loc', torch.tensor(0.0))\n",
    "#         #bias_scale = pyro.param('bias_scale', torch.tensor(3.0), tdist.constraints.positive)\n",
    "#         try:\n",
    "#             bias = pyro.sample('bias', dist.Normal(bias_loc, 1.0))\n",
    "#         except:\n",
    "#             print(min(bias_loc), max(bias_loc))#, min(bias_scale), max(bias_scale))\n",
    "#             raise RuntimeError('')\n",
    "        \n",
    "#         #noise_scale = pyro.param('noise_scale', torch.tensor(1.0), tdist.constraints.positive)\n",
    "\n",
    "\n",
    "# class LinearNonlinear(nn.Module):\n",
    "#     def __init__(self, xdim, ydim):\n",
    "#         super().__init__()\n",
    "#         self.xdim = xdim\n",
    "#         self.ydim = ydim\n",
    "    \n",
    "#     def forward(self, x, y):\n",
    "#         kernel_loc = torch.randn(self.xdim)\n",
    "#         kernel_scale = 0.1*torch.ones(self.xdim)\n",
    "#         kernel = pyro.sample('kernel', dist.MultivariateNormal(kernel_loc, torch.diag(kernel_scale)))\n",
    "        \n",
    "#         bias_loc = torch.tensor(0.0)\n",
    "#         #bias_scale = torch.tensor(1.0)\n",
    "#         bias = pyro.sample('bias', dist.Normal(bias_loc, 0.1))\n",
    "        \n",
    "#         #noise_scale = torch.tensor(1.0)\n",
    "        \n",
    "#         with pyro.plate('observations'):\n",
    "#             estimate_loc = torch.tanh((x * kernel).sum(1) + bias)\n",
    "#             estimate = pyro.sample('obs', dist.Normal(estimate_loc, 0.1), obs=y)\n",
    "    \n",
    "#     def filter(self, x):\n",
    "#         return torch.tanh((pyro.param('kernel_loc') * x).sum(1) + pyro.param('bias_loc'))\n",
    "    \n",
    "#     def guide(self, x, y):\n",
    "#         kernel_loc = pyro.param('kernel_loc', torch.zeros(self.xdim))\n",
    "#         kernel_scale = pyro.param('kernel_scale', 0.1*torch.ones(self.xdim), tdist.constraints.positive)\n",
    "#         try:\n",
    "#             kernel = pyro.sample('kernel', dist.MultivariateNormal(kernel_loc, torch.diag(kernel_scale)))\n",
    "#         except:\n",
    "#             print(min(kernel_loc), max(kernel_loc))#, min(kernel_scale), max(kernel_scale))\n",
    "#             raise RuntimeError('')\n",
    "        \n",
    "#         bias_loc = pyro.param('bias_loc', torch.tensor(0.0))\n",
    "#         #bias_scale = pyro.param('bias_scale', torch.tensor(3.0), tdist.constraints.positive)\n",
    "#         try:\n",
    "#             bias = pyro.sample('bias', dist.Normal(bias_loc, 1.0))\n",
    "#         except:\n",
    "#             print(min(bias_loc), max(bias_loc))#, min(bias_scale), max(bias_scale))\n",
    "#             raise RuntimeError('')\n",
    "        \n",
    "#         #noise_scale = pyro.param('noise_scale', torch.tensor(1.0), tdist.constraints.positive)\n",
    "\n",
    "\n",
    "# class KalmanFilter(nn.Module):\n",
    "#     def __init__(self, xdim, ldim, ydim):\n",
    "#         super().__init__()\n",
    "#         self.xdim = xdim\n",
    "#         self.ydim = ydim\n",
    "    \n",
    "#     def forward(self, x, y):\n",
    "#         kernel_loc = torch.randn(self.xdim)\n",
    "#         kernel_scale = 0.1*torch.ones(self.xdim)\n",
    "#         kernel = pyro.sample('kernel', dist.MultivariateNormal(kernel_loc, torch.diag(kernel_scale)))\n",
    "        \n",
    "#         bias_loc = torch.tensor(0.0)\n",
    "#         #bias_scale = torch.tensor(1.0)\n",
    "#         bias = pyro.sample('bias', dist.Normal(bias_loc, 0.1))\n",
    "        \n",
    "#         noise_scale = torch.tensor(0.1)\n",
    "        \n",
    "#         with pyro.plate('observations'):\n",
    "#             estimate_loc = torch.tanh((x * kernel).sum(1) + bias)\n",
    "#             estimate = pyro.sample('obs', dist.Normal(estimate_loc, noise_scale), obs=y)\n",
    "    \n",
    "#     def filter(self, x):\n",
    "#         return torch.tanh((pyro.param('kernel_loc') * x).sum(1) + pyro.param('bias_loc'))\n",
    "    \n",
    "#     def guide(self, x, y):\n",
    "#         kernel_loc = pyro.param('kernel_loc', torch.zeros(self.xdim))\n",
    "#         kernel_scale = pyro.param('kernel_scale', 0.1*torch.ones(self.xdim), tdist.constraints.positive)\n",
    "#         try:\n",
    "#             kernel = pyro.sample('kernel', dist.MultivariateNormal(kernel_loc, torch.diag(kernel_scale)))\n",
    "#         except:\n",
    "#             print(min(kernel_loc), max(kernel_loc))#, min(kernel_scale), max(kernel_scale))\n",
    "#             raise RuntimeError('')\n",
    "        \n",
    "#         bias_loc = pyro.param('bias_loc', torch.tensor(0.0))\n",
    "#         #bias_scale = pyro.param('bias_scale', torch.tensor(3.0), tdist.constraints.positive)\n",
    "#         try:\n",
    "#             bias = pyro.sample('bias', dist.Normal(bias_loc, 1.0))\n",
    "#         except:\n",
    "#             print(min(bias_loc), max(bias_loc))#, min(bias_scale), max(bias_scale))\n",
    "#             raise RuntimeError('')\n",
    "        \n",
    "#         noise_scale = pyro.param('noise_scale', torch.tensor(0.1), tdist.constraints.positive)\n",
    "\n",
    "\n",
    "# class ExtendedKalmanFilter(nn.Module):\n",
    "#     def __init__(self):\n",
    "#         super().__init__()\n",
    "#         raise NotImplementedError('Class not yet implemented!')\n",
    "    \n",
    "#     def forward(self, x, y):\n",
    "#         pass\n",
    "\n",
    "\n",
    "# class UnscentedKalmanFilter(nn.Module):\n",
    "#     def __init__(self):\n",
    "#         super().__init__()\n",
    "#         raise NotImplementedError('Class not yet implemented!')\n",
    "    \n",
    "#     def forward(self, x, y):\n",
    "#         pass\n",
    "\n",
    "\n",
    "# # def model(x, y):\n",
    "# #     filt = pyro.sample('filt', dist.MultivariateNormal(torch.zeros(dim), torch.eye(dim)))\n",
    "# #     bias = pyro.sample('bias', dist.Normal(0, 3))\n",
    "# #     #noise = pyro.sample('noise', dist.HalfNormal(1))\n",
    "    \n",
    "# #     with pyro.plate('observations'):\n",
    "# #         target = pyro.sample('obs', dist.Normal((x*filt).sum(1) + bias, 1), obs=y)\n",
    "\n",
    "# # guide = pyro.infer.autoguide.AutoMultivariateNormal(model)"
   ]
  },
  {
   "cell_type": "code",
   "execution_count": 239,
   "metadata": {},
   "outputs": [],
   "source": [
    "class Linear(nn.Module):\n",
    "    def __init__(self, xdim, ydim):\n",
    "        super().__init__()\n",
    "        self.xdim = xdim\n",
    "        self.ydim = ydim\n",
    "    \n",
    "    def forward(self, x, y):\n",
    "        kernel_loc = torch.randn(self.xdim)\n",
    "        kernel_scale = 0.1*torch.ones(self.xdim)\n",
    "        kernel = pyro.sample('kernel', dist.MultivariateNormal(kernel_loc, torch.diag(kernel_scale)))\n",
    "        \n",
    "        bias_loc = torch.tensor(0.0)\n",
    "        #bias_scale = torch.tensor(1.0)\n",
    "        bias = pyro.sample('bias', dist.Normal(bias_loc, 0.1))\n",
    "        \n",
    "        #noise_scale = torch.tensor(1.0)\n",
    "        \n",
    "        with pyro.plate('observations'):\n",
    "            estimate_loc = (x * kernel).sum(1) + bias\n",
    "            estimate = pyro.sample('obs', dist.Normal(estimate_loc, 0.1), obs=y)\n",
    "    \n",
    "    def filter(self, x):\n",
    "        return (pyro.param('kernel_loc') * x).sum(1) + pyro.param('bias_loc')\n",
    "    \n",
    "    def guide(self, x, y):\n",
    "        kernel_loc = pyro.param('kernel_loc', torch.zeros(self.xdim))\n",
    "        kernel_scale = pyro.param('kernel_scale', 0.1*torch.ones(self.xdim), constraint=tdist.constraints.positive)\n",
    "        try:\n",
    "            kernel = pyro.sample('kernel', dist.MultivariateNormal(kernel_loc, torch.diag(kernel_scale)))\n",
    "        except:\n",
    "            print(min(kernel_loc), max(kernel_loc))#, min(kernel_scale), max(kernel_scale))\n",
    "            raise RuntimeError('')\n",
    "        \n",
    "        bias_loc = pyro.param('bias_loc', torch.tensor(0.0))\n",
    "        #bias_scale = pyro.param('bias_scale', torch.tensor(3.0), tdist.constraints.positive)\n",
    "        try:\n",
    "            bias = pyro.sample('bias', dist.Normal(bias_loc, 1.0))\n",
    "        except:\n",
    "            print(min(bias_loc), max(bias_loc))#, min(bias_scale), max(bias_scale))\n",
    "            raise RuntimeError('')\n",
    "        \n",
    "        #noise_scale = pyro.param('noise_scale', torch.tensor(1.0), tdist.constraints.positive)\n",
    "\n",
    "\n",
    "class LinearNonlinear(nn.Module):\n",
    "    def __init__(self, xdim, ydim):\n",
    "        super().__init__()\n",
    "        self.xdim = xdim\n",
    "        self.ydim = ydim\n",
    "    \n",
    "    def forward(self, x, y):\n",
    "        kernel_loc = torch.randn(self.xdim)\n",
    "        kernel_scale = 0.1*torch.ones(self.xdim)\n",
    "        kernel = pyro.sample('kernel', dist.MultivariateNormal(kernel_loc, torch.diag(kernel_scale)))\n",
    "        \n",
    "        bias_loc = torch.tensor(0.0)\n",
    "        #bias_scale = torch.tensor(1.0)\n",
    "        bias = pyro.sample('bias', dist.Normal(bias_loc, 0.1))\n",
    "        \n",
    "        #noise_scale = torch.tensor(1.0)\n",
    "        \n",
    "        with pyro.plate('observations'):\n",
    "            estimate_loc = torch.tanh((x * kernel).sum(1) + bias)\n",
    "            estimate = pyro.sample('obs', dist.Normal(estimate_loc, 0.1), obs=y)\n",
    "    \n",
    "    def filter(self, x):\n",
    "        return torch.tanh((pyro.param('kernel_loc') * x).sum(1) + pyro.param('bias_loc'))\n",
    "    \n",
    "    def guide(self, x, y):\n",
    "        kernel_loc = pyro.param('kernel_loc', torch.zeros(self.xdim))\n",
    "        kernel_scale = pyro.param('kernel_scale', 0.1*torch.ones(self.xdim), constraint=tdist.constraints.positive)\n",
    "        try:\n",
    "            kernel = pyro.sample('kernel', dist.MultivariateNormal(kernel_loc, torch.diag(kernel_scale)))\n",
    "        except:\n",
    "            print(min(kernel_loc), max(kernel_loc))#, min(kernel_scale), max(kernel_scale))\n",
    "            raise RuntimeError('')\n",
    "        \n",
    "        bias_loc = pyro.param('bias_loc', torch.tensor(0.0))\n",
    "        #bias_scale = pyro.param('bias_scale', torch.tensor(3.0), tdist.constraints.positive)\n",
    "        try:\n",
    "            bias = pyro.sample('bias', dist.Normal(bias_loc, 1.0))\n",
    "        except:\n",
    "            print(min(bias_loc), max(bias_loc))#, min(bias_scale), max(bias_scale))\n",
    "            raise RuntimeError('')\n",
    "        \n",
    "        #noise_scale = pyro.param('noise_scale', torch.tensor(1.0), tdist.constraints.positive)\n",
    "\n",
    "\n",
    "class KalmanFilter(nn.Module):\n",
    "    def __init__(self, xdim, ldim, ydim):\n",
    "        super().__init__()\n",
    "        self.xdim = xdim\n",
    "        self.ldim = ldim\n",
    "        self.ydim = ydim\n",
    "    \n",
    "    def forward(self, x, y):\n",
    "        kernel_loc = torch.ones(self.xdim)/self.xdim\n",
    "        kernel_scale = 0.01*torch.ones(self.xdim)\n",
    "        kernel = pyro.sample('kernel', dist.MultivariateNormal(kernel_loc, torch.diag(kernel_scale)))\n",
    "        \n",
    "        memory_loc = 0.5*torch.ones(self.ldim)\n",
    "        memory_scale = 0.1*torch.ones(self.ldim)\n",
    "        memory = pyro.sample('memory', dist.MultivariateNormal(torch.sigmoid(memory_loc), torch.diag(memory_scale)))\n",
    "        \n",
    "        bias_loc = torch.tensor(0.0)\n",
    "        #bias_scale = torch.tensor(1.0)\n",
    "        bias = pyro.sample('bias', dist.Normal(bias_loc, 0.1))\n",
    "        \n",
    "        readout_loc = torch.ones(self.ldim)\n",
    "        readout_scale = 0.1*torch.ones(self.ldim)\n",
    "        readout = pyro.sample('readout', dist.MultivariateNormal(readout_loc, torch.diag(readout_scale)))\n",
    "        \n",
    "        #noise_scale = torch.tensor(1.0)\n",
    "        \n",
    "        state = torch.tensor(0.0)\n",
    "        for i in pyro.plate('state_loop', len(x), subsample_size=50):\n",
    "        #with pyro.plate('state_loop'):\n",
    "            #for i in range(len(x)):\n",
    "        #for i in range(len(x)):\n",
    "                state_loc = (kernel*x[i]).sum() + memory*state\n",
    "                state = pyro.sample(f'state_{i}', dist.Normal(state_loc, 0.1))\n",
    "                \n",
    "                estimate_loc = (readout*state).sum() + bias\n",
    "                estimate = pyro.sample(f'obs_{i}', dist.Normal(estimate_loc, 0.1), obs=y[i])\n",
    "    \n",
    "    def filter(self, x):\n",
    "        return (pyro.param('kernel_loc') * x).sum(1) + pyro.param('bias_loc')\n",
    "    \n",
    "    def guide(self, x, y):\n",
    "        kernel_loc = pyro.param('kernel_loc', torch.ones(self.xdim)/self.xdim)\n",
    "        kernel_scale = pyro.param('kernel_scale', 0.01*torch.ones(self.xdim), constraint=tdist.constraints.positive)\n",
    "        try:\n",
    "            kernel = pyro.sample('kernel', dist.MultivariateNormal(kernel_loc, torch.diag(kernel_scale)))\n",
    "        except:\n",
    "            print(min(kernel_loc), max(kernel_loc))#, min(kernel_scale), max(kernel_scale))\n",
    "            raise RuntimeError('')\n",
    "        \n",
    "        memory_loc = pyro.param('memory_loc', 0.5*torch.ones(self.ldim), constraint=tdist.constraints.half_open_interval(0.0,1.0))\n",
    "        memory_scale = pyro.param('memory_scale', 0.1*torch.ones(self.ldim), constraint=tdist.constraints.positive)\n",
    "        try:\n",
    "            memory = pyro.sample('memory', dist.MultivariateNormal(torch.sigmoid(memory_loc), torch.diag(memory_scale)))\n",
    "        except:\n",
    "            print(min(memory_loc), max(memory_loc))#, min(memory_scale), max(memory_scale))\n",
    "            raise RuntimeError('')\n",
    "        \n",
    "        readout_loc = pyro.param('readout_loc', torch.ones(self.ldim))\n",
    "        readout_scale = pyro.param('readout_scale', 0.1*torch.ones(self.ldim), constraint=tdist.constraints.positive)\n",
    "        try:\n",
    "            readout = pyro.sample('readout', dist.MultivariateNormal(readout_loc, torch.diag(readout_scale)))\n",
    "        except:\n",
    "            print(min(readout_loc), max(readout_loc))#, min(readout_scale), max(readout_scale))\n",
    "            raise RuntimeError('')\n",
    "        \n",
    "        bias_loc = pyro.param('bias_loc', torch.tensor(0.0))\n",
    "        #bias_scale = pyro.param('bias_scale', torch.tensor(3.0), tdist.constraints.positive)\n",
    "        try:\n",
    "            bias = pyro.sample('bias', dist.Normal(bias_loc, 0.1))\n",
    "        except:\n",
    "            print(min(bias_loc), max(bias_loc))#, min(bias_scale), max(bias_scale))\n",
    "            raise RuntimeError('')\n",
    "        \n",
    "        #noise_scale = pyro.param('noise_scale', torch.tensor(1.0), tdist.constraints.positive)\n",
    "        \n",
    "        state = torch.tensor(0.0)\n",
    "        for i in pyro.plate('state_loop', len(x), subsample_size=50):\n",
    "        #with pyro.plate('state_loop'):\n",
    "            #for i in range(len(x)):\n",
    "        #for i in range(len(x)):\n",
    "                state_loc = (kernel*x[i]).sum() + memory*state\n",
    "                state = pyro.sample(f'state_{i}', dist.Normal(state_loc, 0.1))\n",
    "\n",
    "\n",
    "# class ExtendedKalmanFilter(nn.Module):\n",
    "#     def __init__(self):\n",
    "#         super().__init__()\n",
    "#         raise NotImplementedError('Class not yet implemented!')\n",
    "    \n",
    "#     def forward(self, x, y):\n",
    "#         pass\n",
    "\n",
    "\n",
    "# class UnscentedKalmanFilter(nn.Module):\n",
    "#     def __init__(self):\n",
    "#         super().__init__()\n",
    "#         raise NotImplementedError('Class not yet implemented!')\n",
    "    \n",
    "#     def forward(self, x, y):\n",
    "#         pass\n",
    "\n",
    "\n",
    "# def model(x, y):\n",
    "#     filt = pyro.sample('filt', dist.MultivariateNormal(torch.zeros(dim), torch.eye(dim)))\n",
    "#     bias = pyro.sample('bias', dist.Normal(0, 3))\n",
    "#     #noise = pyro.sample('noise', dist.HalfNormal(1))\n",
    "    \n",
    "#     with pyro.plate('observations'):\n",
    "#         target = pyro.sample('obs', dist.Normal((x*filt).sum(1) + bias, 1), obs=y)\n",
    "\n",
    "# guide = pyro.infer.autoguide.AutoMultivariateNormal(model)"
   ]
  },
  {
   "cell_type": "code",
   "execution_count": 240,
   "metadata": {},
   "outputs": [
    {
     "name": "stdout",
     "output_type": "stream",
     "text": [
      "torch.Size([500, 20]) torch.Size([500]) 0.582\n",
      "torch.Size([500, 20]) torch.Size([500]) 0.544\n",
      "4.47 minutes\n",
      "40.00 seconds\n"
     ]
    }
   ],
   "source": [
    "window = 20\n",
    "dilation = 1\n",
    "downsample = 65\n",
    "\n",
    "X = [torch.from_numpy(x)[:500,:] for x in stim_tr]\n",
    "X = [F.avg_pool1d(x.unsqueeze(0), downsample).squeeze(0) for x in X]\n",
    "X = [F.unfold(F.pad(x, (0,0,(window-1)*dilation,0)).T.unsqueeze(0).unsqueeze(-1), (window,1), dilation).squeeze(0).squeeze(-1).T for x in X]\n",
    "Y = [torch.from_numpy(y[:500,29]) for y in data_tr]\n",
    "print(X[0].shape, Y[0].shape, round(sp.stats.pearsonr(X[0].mean(-1), Y[0])[0], 3))\n",
    "\n",
    "X_test = [torch.from_numpy(x) for x in stim_vl]\n",
    "X_test = [F.avg_pool1d(x.unsqueeze(0), downsample).squeeze(0) for x in X_test]\n",
    "X_test = [F.unfold(F.pad(x, (0,0,(window-1)*dilation,0)).T.unsqueeze(0).unsqueeze(-1), (window,1), dilation).squeeze(0).squeeze(-1).T for x in X_test]\n",
    "Y_test = [torch.from_numpy(y[:,29,:].mean(1)) for y in data_vl]\n",
    "print(X_test[0].shape, Y_test[0].shape, round(sp.stats.pearsonr(X_test[0].mean(-1), Y_test[0])[0], 3))\n",
    "\n",
    "# eps = 2\n",
    "# min_y = min(min(torch.cat(Y)), min(torch.cat(Y_test)))\n",
    "# Y = [y+min_y+eps for y in Y]\n",
    "# Y_test = [y+min_y+eps for y in Y_test]\n",
    "\n",
    "dt = 1e-2\n",
    "num_frames = len(X)\n",
    "xdim = X[0].shape[-1]\n",
    "ydim = Y[0].shape[-1] if Y[0].ndim > 1 else 1\n",
    "\n",
    "print(f'{sum([len(x) for x in X])*dt/60:.2f} minutes')\n",
    "print(f'{sum([len(x) for x in X_test])*dt:.2f} seconds')\n",
    "# plt.plot(X[0])\n",
    "# plt.plot(Y[0])\n",
    "# plt.show()"
   ]
  },
  {
   "cell_type": "code",
   "execution_count": null,
   "metadata": {},
   "outputs": [],
   "source": [
    "# Q = (torch.eye(dim)+0.9*torch.eye(dim+1)[1:,:-1]+0.9*torch.eye(dim+1)[:-1,1:]\n",
    "#      +0.7*torch.eye(dim+2)[2:,:-2]+0.7*torch.eye(dim+2)[:-2,2:]\n",
    "#      +0.5*torch.eye(dim+3)[3:,:-3]+0.5*torch.eye(dim+3)[:-3,3:]\n",
    "#      +0.3*torch.eye(dim+4)[4:,:-4]+0.3*torch.eye(dim+4)[:-4,4:]\n",
    "#      +0.1*torch.eye(dim+5)[5:,:-5]+0.1*torch.eye(dim+5)[:-5,5:])\n",
    "# plt.imshow(Q);"
   ]
  },
  {
   "cell_type": "markdown",
   "metadata": {},
   "source": [
    "## Gaussian linear"
   ]
  },
  {
   "cell_type": "code",
   "execution_count": 241,
   "metadata": {},
   "outputs": [
    {
     "name": "stdout",
     "output_type": "stream",
     "text": [
      "[iteration 0001] loss: 10.5859; 0.582 -- 0.452\n",
      "[iteration 0051] loss: 253510.2545; -0.582 -- -0.454\n",
      "[iteration 0101] loss: 0.1895; 0.582 -- 0.451\n",
      "[iteration 0151] loss: 0.1310; 0.582 -- 0.451\n",
      "[iteration 0201] loss: 0.2174; -0.582 -- -0.454\n",
      "[iteration 0251] loss: 0.6561; -0.582 -- -0.454\n",
      "[iteration 0301] loss: 0.1378; -0.582 -- -0.454\n",
      "[iteration 0351] loss: 0.5026; -0.582 -- -0.454\n",
      "[iteration 0401] loss: 0.1221; 0.579 -- 0.440\n",
      "[iteration 0451] loss: 0.1895; 0.579 -- 0.441\n",
      "[iteration 0501] loss: 2899.5920; 0.579 -- 0.441\n",
      "[iteration 0551] loss: 0.2281; 0.579 -- 0.441\n",
      "[iteration 0601] loss: 0.2194; 0.579 -- 0.441\n",
      "[iteration 0651] loss: 0.1251; 0.579 -- 0.441\n",
      "[iteration 0701] loss: 0.2292; 0.579 -- 0.441\n",
      "[iteration 0751] loss: 0.2049; -0.584 -- -0.467\n",
      "[iteration 0801] loss: 0.2091; -0.583 -- -0.457\n",
      "[iteration 0851] loss: 0.2698; -0.583 -- -0.457\n",
      "[iteration 0901] loss: 0.1946; -0.583 -- -0.457\n",
      "[iteration 0951] loss: 0.1301; -0.583 -- -0.457\n",
      "kernel_loc torch.Size([20])\n",
      "kernel_scale torch.Size([20])\n",
      "memory_loc torch.Size([1])\n",
      "memory_scale torch.Size([1])\n",
      "readout_loc torch.Size([1])\n",
      "readout_scale torch.Size([1])\n",
      "bias_loc torch.Size([])\n"
     ]
    }
   ],
   "source": [
    "model = KalmanFilter(xdim, 1, ydim)#, lognormal=False)\n",
    "optim = pyro.optim.Adam({'lr': 1e-2})\n",
    "# optim = pyro.optim.SGD({'lr': 1e-3, 'momentum': 0.1})\n",
    "svi = pyro.infer.SVI(model, model.guide, optim, loss=pyro.infer.Trace_ELBO(), num_samples=5000)\n",
    "\n",
    "#list_0, list_1, list_2, list_3, list_4, list_5, list_6 = [], [], [], [], [], [], []\n",
    "\n",
    "def train(num_iterations, interval=50):\n",
    "    loss_tr = []\n",
    "    corr_tr, corr_vl = [], []\n",
    "    pyro.clear_param_store()\n",
    "    \n",
    "    for j in range(num_iterations):\n",
    "        loss = 0\n",
    "        for x, y in zip(X[:1], Y[:1]):\n",
    "            loss += svi.step(x, y)\n",
    "        loss_tr.append(loss/sum([len(x) for x in X]))\n",
    "        \n",
    "        #list_0.append(pyro.param('kernel_loc').detach().cpu().clone())\n",
    "        #list_1.append(pyro.param('kernel_scale').detach().cpu().clone())\n",
    "        #list_2.append(pyro.param('memory_loc').detach().cpu().clone())\n",
    "        #list_3.append(pyro.param('memory_scale').detach().cpu().clone())\n",
    "        #list_4.append(pyro.param('readout_loc').detach().cpu().clone())\n",
    "        #list_5.append(pyro.param('readout_scale').detach().cpu().clone())\n",
    "        #list_6.append(pyro.param('bias_loc').detach().cpu().clone())\n",
    "        \n",
    "        corrs = []\n",
    "        for x, y in zip(X[:1], Y[:1]):\n",
    "            z = model.filter(x)\n",
    "            #z = (pyro.param('auto_loc')[:-1]*x).sum(1) + pyro.param('auto_loc')[-1]\n",
    "            corrs.append(sp.stats.pearsonr(y, z.detach().cpu())[0])\n",
    "        corr_tr.append(np.mean(corrs))\n",
    "        \n",
    "        corrs = []\n",
    "        for x, y in zip(X_test, Y_test):\n",
    "            z = model.filter(x)\n",
    "            #z = (pyro.param('auto_loc')[:-1]*x).sum(1) + pyro.param('auto_loc')[-1]\n",
    "            corrs.append(sp.stats.pearsonr(y, z.detach().cpu())[0])\n",
    "        corr_vl.append(np.mean(corrs))\n",
    "        \n",
    "        if j % interval == 0:\n",
    "            print(f'[iteration {j+1:04d}] loss: {loss_tr[-1]:.4f}; {corr_tr[-1]:.3f} -- {corr_vl[-1]:.3f}')\n",
    "    \n",
    "    return corr_tr, corr_vl\n",
    "\n",
    "history = train(1_000, 50)\n",
    "\n",
    "\n",
    "for name, value in pyro.get_param_store().items():\n",
    "    print(name, pyro.param(name).shape)"
   ]
  },
  {
   "cell_type": "code",
   "execution_count": 244,
   "metadata": {},
   "outputs": [
    {
     "data": {
      "image/png": "[encoded data removed]",
      "text/plain": [
       "<Figure size 432x288 with 1 Axes>"
      ]
     },
     "metadata": {
      "needs_background": "light"
     },
     "output_type": "display_data"
    }
   ],
   "source": [
    "plt.plot(history[0])\n",
    "plt.plot(history[1])\n",
    "plt.legend(('true','estimate'), fontsize=12)\n",
    "plt.show()"
   ]
  },
  {
   "cell_type": "code",
   "execution_count": 245,
   "metadata": {},
   "outputs": [
    {
     "data": {
      "image/png": "[encoded data removed]",
      "text/plain": [
       "<Figure size 864x144 with 1 Axes>"
      ]
     },
     "metadata": {
      "needs_background": "light"
     },
     "output_type": "display_data"
    },
    {
     "data": {
      "image/png": "[encoded data removed]",
      "text/plain": [
       "<Figure size 864x144 with 1 Axes>"
      ]
     },
     "metadata": {
      "needs_background": "light"
     },
     "output_type": "display_data"
    },
    {
     "data": {
      "image/png": "[encoded data removed]",
      "text/plain": [
       "<Figure size 864x144 with 1 Axes>"
      ]
     },
     "metadata": {
      "needs_background": "light"
     },
     "output_type": "display_data"
    }
   ],
   "source": [
    "loc = pyro.param('kernel_loc').detach().cpu()\n",
    "scale = pyro.param('kernel_scale').detach().cpu()\n",
    "for i in range(3):\n",
    "    plt.figure(figsize=(12,2))\n",
    "    plt.plot(loc[i*100:(i+1)*100])\n",
    "    plt.plot(loc[i*100:(i+1)*100]-scale[i*100:(i+1)*100])\n",
    "    plt.plot(loc[i*100:(i+1)*100]+scale[i*100:(i+1)*100])\n",
    "    plt.xlim(-1,101)\n",
    "    plt.show()"
   ]
  },
  {
   "cell_type": "code",
   "execution_count": 206,
   "metadata": {},
   "outputs": [
    {
     "data": {
      "image/png": "[encoded data removed]",
      "text/plain": [
       "<Figure size 216x216 with 1 Axes>"
      ]
     },
     "metadata": {
      "needs_background": "light"
     },
     "output_type": "display_data"
    }
   ],
   "source": [
    "plt.figure(figsize=(3,3))\n",
    "plt.imshow(X[0][95,:].reshape(-1,window), aspect=8, origin='ll')\n",
    "plt.show()"
   ]
  },
  {
   "cell_type": "code",
   "execution_count": 246,
   "metadata": {},
   "outputs": [
    {
     "data": {
      "image/png": "[encoded data removed]",
      "text/plain": [
       "<Figure size 216x216 with 1 Axes>"
      ]
     },
     "metadata": {
      "needs_background": "light"
     },
     "output_type": "display_data"
    }
   ],
   "source": [
    "plt.figure(figsize=(3,3))\n",
    "plt.imshow(pyro.param('kernel_loc').reshape(-1,window).detach().cpu(), aspect=8, origin='ll')\n",
    "plt.show()"
   ]
  },
  {
   "cell_type": "code",
   "execution_count": 247,
   "metadata": {},
   "outputs": [
    {
     "data": {
      "text/plain": [
       "(tensor([-0.1637, -0.1609, -0.1593, -0.1599, -0.1614, -0.1590, -0.1482, -0.1390,\n",
       "         -0.1347, -0.1366, -0.1436, -0.1490, -0.1480, -0.1447, -0.1448, -0.1423,\n",
       "         -0.1435, -0.1441, -0.1436, -0.1529]),\n",
       " tensor([0.3259]),\n",
       " tensor([0.2483]))"
      ]
     },
     "execution_count": 247,
     "metadata": {},
     "output_type": "execute_result"
    }
   ],
   "source": [
    "pyro.param('kernel_loc').detach(), pyro.param('memory_loc').detach(), pyro.param('readout_loc').detach()"
   ]
  },
  {
   "cell_type": "code",
   "execution_count": 248,
   "metadata": {},
   "outputs": [
    {
     "data": {
      "text/plain": [
       "(-0.494118617229904, 3.860443390875746e-32)"
      ]
     },
     "execution_count": 248,
     "metadata": {},
     "output_type": "execute_result"
    },
    {
     "data": {
      "image/png": "[encoded data removed]",
      "text/plain": [
       "<Figure size 432x288 with 1 Axes>"
      ]
     },
     "metadata": {
      "needs_background": "light"
     },
     "output_type": "display_data"
    }
   ],
   "source": [
    "x, y = X_test[1], Y_test[1]\n",
    "z = model.filter(x)\n",
    "z = z.detach().cpu()\n",
    "plt.plot(y[:500])\n",
    "plt.plot(z[:500])\n",
    "plt.legend(('true','estimate'), fontsize=12)\n",
    "sp.stats.pearsonr(y, z)"
   ]
  },
  {
   "cell_type": "code",
   "execution_count": null,
   "metadata": {},
   "outputs": [],
   "source": [
    "# from pyro.contrib.tracking.extended_kalman_filter import EKFState\n",
    "# from pyro.contrib.tracking.distributions import EKFDistribution\n",
    "# from pyro.contrib.tracking.dynamic_models import NcvContinuous\n",
    "# from pyro.contrib.tracking.measurements import PositionMeasurement\n",
    "\n",
    "\n",
    "# def model(x, y):\n",
    "#     weight_x1 = pyro.sample('weight_x1', dist.Normal(0, 1))\n",
    "#     weight_x2 = pyro.sample('weight_x2', dist.Normal(0, 1))\n",
    "#     bias = pyro.sample('bias', dist.Normal(5, 1))\n",
    "    \n",
    "#     with pyro.plate('observations'):\n",
    "#         target = pyro.sample('obs', dist.Normal(x[:, 0] * weight_x1 + x[:, 1] * weight_x2 + bias, 1), obs=y)\n",
    "\n",
    "# guide = pyro.infer.autoguide.AutoDiagonalNormal(model)\n",
    "# optim = pyro.optim.Adam({\"lr\": 0.005})\n",
    "# svi = pyro.infer.SVI(model, guide, optim, loss=pyro.infer.Trace_ELBO(), num_samples=1000)\n",
    "\n",
    "# def train(num_iterations):\n",
    "#     pyro.clear_param_store()\n",
    "#     for j in range(num_iterations):\n",
    "#         loss = svi.step(x, y)\n",
    "#         if j % 500 == 0:\n",
    "#             print(\"[iteration %04d] loss: %.4f\" % (j + 1, loss / len(x)))\n",
    "\n",
    "# train(5000)\n",
    "\n",
    "\n",
    "# for name, value in pyro.get_param_store().items():\n",
    "#     print(name, pyro.param(name))"
   ]
  },
  {
   "cell_type": "code",
   "execution_count": null,
   "metadata": {},
   "outputs": [],
   "source": [
    "# Continuous model\n",
    "ncv = NcvContinuous(dim, 2.0)\n",
    "\n",
    "# Truth trajectory\n",
    "xs_truth = torch.zeros(num_frames, dim)\n",
    "xs_truth[:,:1] = X"
   ]
  },
  {
   "cell_type": "code",
   "execution_count": null,
   "metadata": {},
   "outputs": [],
   "source": [
    "# # Measurements\n",
    "# measurements = []\n",
    "# mean = torch.zeros(2)\n",
    "# # no correlations\n",
    "# cov = 1e-5 * torch.eye(2)\n",
    "# with torch.no_grad():\n",
    "#     # sample independent measurement noise\n",
    "#     dzs = pyro.sample('dzs', dist.MultivariateNormal(mean, cov).expand((num_frames,)))\n",
    "#     # compute measurement means\n",
    "#     zs = xs_truth[:, :2] + dzs\n",
    "\n",
    "# Measurements\n",
    "# zs = torch.cat((X, y), 1)\n",
    "zs = y"
   ]
  },
  {
   "cell_type": "code",
   "execution_count": null,
   "metadata": {},
   "outputs": [],
   "source": [
    "def model(data):\n",
    "    # a HalfNormal can be used here as well\n",
    "    R = pyro.sample('pv_cov', dist.HalfCauchy(2e-6)) * torch.eye(2)\n",
    "    Q = pyro.sample('measurement_cov', dist.HalfCauchy(1e-6)) * torch.eye(1)\n",
    "    # observe the measurements\n",
    "    pyro.sample('track_{}'.format(i), EKFDistribution(xs_truth[0], R, ncv, Q, time_steps=num_frames), obs=data)\n",
    "\n",
    "guide = pyro.infer.autoguide.AutoDelta(model)  # MAP estimation"
   ]
  },
  {
   "cell_type": "code",
   "execution_count": null,
   "metadata": {},
   "outputs": [],
   "source": [
    "optim = pyro.optim.Adam({'lr': 2e-1})\n",
    "svi = pyro.infer.SVI(model, guide, optim, loss=pyro.infer.Trace_ELBO(retain_graph=True))\n",
    "\n",
    "# pyro.set_rng_seed(0)\n",
    "pyro.clear_param_store()\n",
    "\n",
    "for i in range(250):\n",
    "    loss = svi.step(zs)\n",
    "    if not i % 10:\n",
    "        print('loss: ', loss)"
   ]
  },
  {
   "cell_type": "code",
   "execution_count": null,
   "metadata": {},
   "outputs": [],
   "source": [
    "# retrieve states for visualization\n",
    "R = guide()['pv_cov'] * torch.eye(2)\n",
    "Q = guide()['measurement_cov'] * torch.eye(1)\n",
    "ekf_dist = EKFDistribution(xs_truth[0], R, ncv, Q, time_steps=num_frames)\n",
    "states = ekf_dist.filter_states(zs)"
   ]
  },
  {
   "cell_type": "code",
   "execution_count": null,
   "metadata": {},
   "outputs": [],
   "source": [
    "list(ncv.parameters())"
   ]
  },
  {
   "cell_type": "code",
   "execution_count": null,
   "metadata": {},
   "outputs": [],
   "source": [
    "S = np.stack([_.mean.detach().cpu().numpy() for _ in states])\n",
    "S.shape"
   ]
  },
  {
   "cell_type": "code",
   "execution_count": null,
   "metadata": {},
   "outputs": [],
   "source": [
    "plt.plot(S);"
   ]
  },
  {
   "cell_type": "code",
   "execution_count": null,
   "metadata": {},
   "outputs": [],
   "source": [
    "np.corrcoef(S.T)[0,1]"
   ]
  },
  {
   "cell_type": "code",
   "execution_count": null,
   "metadata": {},
   "outputs": [],
   "source": []
  }
 ],
 "metadata": {
  "kernelspec": {
   "display_name": "Python 3",
   "language": "python",
   "name": "python3"
  },
  "language_info": {
   "codemirror_mode": {
    "name": "ipython",
    "version": 3
   },
   "file_extension": ".py",
   "mimetype": "text/x-python",
   "name": "python",
   "nbconvert_exporter": "python",
   "pygments_lexer": "ipython3",
   "version": "3.7.4"
  }
 },
 "nbformat": 4,
 "nbformat_minor": 4
}
